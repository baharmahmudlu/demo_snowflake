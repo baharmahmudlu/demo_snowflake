{
 "metadata": {
  "kernelspec": {
   "display_name": "Streamlit Notebook",
   "name": "streamlit"
  }
 },
 "nbformat_minor": 5,
 "nbformat": 4,
 "cells": [
  {
   "cell_type": "markdown",
   "id": "a653e8fa-59c4-435b-a427-10c976b08418",
   "metadata": {
    "name": "Title_cell",
    "collapsed": false
   },
   "source": "# Add Rows to Flower Detail Table\nEdit the \"set\" cell to update the variables, then click \"Run All\" in the top left-corner."
  },
  {
   "cell_type": "markdown",
   "id": "6df49e60-0f1c-4d9c-82bf-69a80b1f445c",
   "metadata": {
    "name": "Title_Cell",
    "collapsed": false
   },
   "source": "Markdown is just text. **But** :red[you] *can* :green[also] make it :blue[fancy]!"
  },
  {
   "cell_type": "markdown",
   "id": "0ad11735-7a84-4209-a557-7fa0e0782f5f",
   "metadata": {
    "name": "values_to_add",
    "collapsed": false
   },
   "source": "set rdc = 'M';\nset rdc = 'S';\nset rdc = 'D';\nset rdc = 'S';\nset rdc = 'M';\n/n\nset fn = 'Petunia';\nset fn = 'Lilac';\nset fn = 'Sunflower';\nset fn = 'Lavender';\nset fn = 'Tulip';\n"
  },
  {
   "cell_type": "code",
   "id": "ec151062-614b-4846-8bef-bb123278f9f9",
   "metadata": {
    "language": "sql",
    "name": "set_root_depth_code",
    "codeCollapsed": false
   },
   "outputs": [],
   "source": "set rdc = 'M';",
   "execution_count": null
  },
  {
   "cell_type": "code",
   "id": "217cbcb6-470c-4753-9fa5-5dca48aebd1a",
   "metadata": {
    "language": "sql",
    "name": "set_flower_name",
    "codeCollapsed": false
   },
   "outputs": [],
   "source": "set fn = 'Tulip';",
   "execution_count": null
  },
  {
   "cell_type": "code",
   "id": "cd74eb26-503d-4291-b73e-a25ad9234e8a",
   "metadata": {
    "language": "sql",
    "name": "check_my_variables",
    "codeCollapsed": false
   },
   "outputs": [],
   "source": "select $fn, $rdc;",
   "execution_count": null
  },
  {
   "cell_type": "code",
   "id": "05f123e0-5f40-433e-a660-0a7173db741f",
   "metadata": {
    "language": "sql",
    "name": "insert_row",
    "codeCollapsed": false
   },
   "outputs": [],
   "source": "use database garden_plants;\nuse schema flowers;\n\ninsert into flower_details select $fn, $rdc;",
   "execution_count": null
  },
  {
   "cell_type": "code",
   "id": "b628f7aa-ae5b-4d55-b698-6b75836b19e6",
   "metadata": {
    "language": "sql",
    "name": "check_the_table",
    "codeCollapsed": false
   },
   "outputs": [],
   "source": "select * from flower_details",
   "execution_count": null
  },
  {
   "cell_type": "code",
   "id": "7fc81696-9d35-4f05-a7ea-2d6e3e927fb8",
   "metadata": {
    "language": "sql",
    "name": "check_dora"
   },
   "outputs": [],
   "source": "-- use database UTIL_DB;\n-- use schema PUBLIC;\n-- use role ACCOUNTADMIN;\n\n-- select GRADER(step, (actual = expected), actual, expected, description) as graded_results from ( \n--    SELECT 'DWW08' as step \n--    ,( select iff(count(*)=0, 0, count(*)/count(*))\n--       from table(information_schema.query_history())\n--       where query_text like 'execute notebook%Uncle Yer%') as actual \n--    , 1 as expected \n--    , 'Notebook success!' as description \n-- ); ",
   "execution_count": null
  }
 ]
}